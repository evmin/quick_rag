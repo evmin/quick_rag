{
 "cells": [
  {
   "cell_type": "markdown",
   "metadata": {},
   "source": [
    "# Quick RAG (Retrieval-Augmented Generation) Tutorial\n",
    "\n",
    "This tutorial demonstrates how to set up and use a RAG system using Azure's OpenAI service. We'll walk through the process of configuring an OpenAI client, setting up a search index, and generating responses from a knowledge base.\n",
    "\n",
    "Let's begin by loading the necessary libraries and configurations."
   ]
  },
  {
   "cell_type": "code",
   "execution_count": 1,
   "metadata": {},
   "outputs": [
    {
     "name": "stdout",
     "output_type": "stream",
     "text": [
      "WARNING ONLY - reading text file: [Errno 2] No such file or directory: '../code/prompts/generate_tags_prompt.txt'\n",
      "Success status: False. Reading file from full path: c:\\Users\\selhousseini\\Documents\\GitHub\\code\\prompts\\generate_tags_prompt.txt\n"
     ]
    }
   ],
   "source": [
    "# Enable autoreload for automatically reloading modules before executing code\n",
    "# This is helpful when we make changes to any modules and want those changes to reflect immediately.\n",
    "%load_ext autoreload\n",
    "%autoreload 2\n",
    "\n",
    "# Import the required libraries\n",
    "import os\n",
    "from dotenv import load_dotenv\n",
    "\n",
    "# Load environment variables from a .env file if it exists\n",
    "load_dotenv()\n",
    "\n",
    "# Append the path to our custom code directory so that we can import from it\n",
    "import sys\n",
    "sys.path.append('code')\n",
    "\n",
    "# Import custom environment variables and utility functions from our project files\n",
    "from env_vars import *\n",
    "from openai import AzureOpenAI\n",
    "from utils.cogsearch_rest import *\n",
    "from utils.openai_helpers import *\n",
    "from utils.general_helpers import *\n",
    "from utils.llm_helpers import *\n"
   ]
  },
  {
   "cell_type": "markdown",
   "metadata": {},
   "source": [
    "### Creating a Search Index for RAG\n",
    "\n",
    "Now that we have our OpenAI clients set up, we need to create a search index. This index will store the vector embeddings and related metadata for the information we want to retrieve during the RAG process."
   ]
  },
  {
   "cell_type": "code",
   "execution_count": 2,
   "metadata": {},
   "outputs": [],
   "source": [
    "# Define the index name that will be used for storing the documents and vectors\n",
    "index_name = KB_INDEX_NAME\n",
    "\n",
    "# Set the vector dimensions according to the embedding model being used\n",
    "vector_dimensions = 3072\n",
    "\n",
    "# Define the schema for the search index, which includes fields for id, vector, tags, and text\n",
    "fields = [\n",
    "    {\"name\": \"id\", \"type\": \"Edm.String\", \"key\": True, \"searchable\": True, \"filterable\": True, \"retrievable\": True, \"sortable\": True},\n",
    "    {\"name\": \"vector\", \"type\": \"Collection(Edm.Single)\", \"searchable\": True,\"retrievable\": True, \"dimensions\": vector_dimensions,\"vectorSearchProfile\": \"my-vector-profile\"},\n",
    "    {\"name\": \"tags\", \"type\": \"Edm.String\",\"searchable\": True, \"filterable\": False, \"retrievable\": True, \"sortable\": False, \"facetable\": False},\n",
    "    {\"name\": \"text\", \"type\": \"Edm.String\",\"searchable\": True, \"filterable\": False, \"retrievable\": True, \"sortable\": False, \"facetable\": False},\n",
    "]\n",
    "\n",
    "# Create an instance of the CogSearchRestAPI to interact with the search index\n",
    "index = CogSearchRestAPI(index_name, fields=fields)\n"
   ]
  },
  {
   "cell_type": "markdown",
   "metadata": {},
   "source": [
    "### Initializing and Populating the Search Index\n",
    "\n",
    "Next, we check if the index already exists. If it doesn't, we will create the index and populate it with synthetic data (e.g., Tesla Model S facts)."
   ]
  },
  {
   "cell_type": "code",
   "execution_count": 3,
   "metadata": {},
   "outputs": [
    {
     "name": "stdout",
     "output_type": "stream",
     "text": [
      "Get Index Error:  RetryError[<Future at 0x21c38659a90 state=finished raised HTTPError>]\n",
      "No index tesla_facts_index detected, creating one ... \n",
      "Success status: True. Reading file from full path: c:\\Users\\selhousseini\\Documents\\GitHub\\quick_rag\\data\\Tesla_Model_S.txt\n",
      "Processed 10 items\n",
      "Processed 20 items\n",
      "Processed 30 items\n",
      "Processed 40 items\n",
      "Processed 50 items\n",
      "Processed 60 items\n",
      "Processed 70 items\n"
     ]
    }
   ],
   "source": [
    "# Check if the index exists. If it doesn't, create it and upload documents.\n",
    "# This is a crucial step as we want to make sure our index is set up before attempting to upload data.\n",
    "\n",
    "# Load synthetic data from the Tesla Model S text file if the index does not exist\n",
    "if index.get_index() is None:\n",
    "    print(f\"No index {index_name} detected, creating one ... \")\n",
    "    index.create_index()\n",
    "\n",
    "# If the data file does not exist, we will process the text data to generate embeddings and metadata.\n",
    "pkl_file = './data/tesla_facts.pkl'\n",
    "data = './data/Tesla_Model_S.txt'\n",
    "\n",
    "if not os.path.exists(pkl_file):\n",
    "    text = read_file(data)\n",
    "    facts = text.split('\\n\\n')\n",
    "\n",
    "    metadatas = []\n",
    "\n",
    "    for fact in facts: \n",
    "        metadata = {\n",
    "            \"text\": fact, \n",
    "            \"vector\": get_embeddings(fact),\n",
    "            \"tags\": generate_tag_list(fact),\n",
    "            \"id\": generate_uuid_from_string(fact)\n",
    "        }\n",
    "\n",
    "        metadatas.append(metadata)\n",
    "        \n",
    "        # Print progress every 10 items processed\n",
    "        if len(metadatas) % 10 == 0:\n",
    "            print(f\"Processed {len(metadatas)} items\")\n",
    "\n",
    "    # Save the processed metadata to a pickle file for future use\n",
    "    save_to_pickle(metadatas, pkl_file)\n",
    "else:\n",
    "    # Load previously saved metadata if it exists\n",
    "    metadatas = load_from_pickle(pkl_file)\n",
    "\n",
    "# Upload the metadata and vectors to the Azure Cognitive Search index\n",
    "upload_output = index.upload_documents(metadatas)    \n"
   ]
  },
  {
   "cell_type": "markdown",
   "metadata": {},
   "source": [
    "### Creating an Orchestrator and Generating Responses\n",
    "\n",
    "Finally, we create an orchestrator that interacts with our search index and LLM to answer questions. The orchestrator will utilize the RAG approach to retrieve relevant information from the index and generate an appropriate response."
   ]
  },
  {
   "cell_type": "code",
   "execution_count": 4,
   "metadata": {},
   "outputs": [
    {
     "name": "stdout",
     "output_type": "stream",
     "text": [
      "Success status: True. Reading file from full path: c:\\Users\\selhousseini\\Documents\\GitHub\\quick_rag\\code\\prompts\\orchestrator_system_prompt.txt\n",
      "Success status: True. Reading file from full path: c:\\Users\\selhousseini\\Documents\\GitHub\\quick_rag\\code\\prompts\\orchestrator_functions.json\n",
      "Final Answer:\n",
      "Hello! I'm just a virtual assistant, so I don't have feelings, but I'm here and ready to help you. How can I assist you today?\n"
     ]
    },
    {
     "data": {
      "text/plain": [
       "(\"Hello! I'm just a virtual assistant, so I don't have feelings, but I'm here and ready to help you. How can I assist you today?\",\n",
       " [])"
      ]
     },
     "execution_count": 4,
     "metadata": {},
     "output_type": "execute_result"
    }
   ],
   "source": [
    "# Import the orchestrator module that ties together the RAG components\n",
    "from orchestrator import Orchestrator\n",
    "\n",
    "# Initialize the Orchestrator with the knowledge base index and topic of interest\n",
    "o = Orchestrator(index_name, KB_TOPIC)\n",
    "\n",
    "# Use the orchestrator to generate a response to a simple greeting\n",
    "# The orchestrator uses the LLM to generate a response based on the system prompt and functions defined.\n",
    "o.chat(\"hi how are you?\")\n"
   ]
  },
  {
   "cell_type": "markdown",
   "metadata": {},
   "source": [
    "### Querying the Knowledge Base\n",
    "\n",
    "Now let's see the RAG system in action by querying the knowledge base for information. We will ask the orchestrator a specific question about the Tesla Model S and observe the response generated."
   ]
  },
  {
   "cell_type": "code",
   "execution_count": 5,
   "metadata": {},
   "outputs": [
    {
     "name": "stdout",
     "output_type": "stream",
     "text": [
      "Arguments:  {\"search_phrase\":\"Tesla Model S Facts\"}\n",
      "Success status: True. Reading file from full path: c:\\Users\\selhousseini\\Documents\\GitHub\\quick_rag\\code\\prompts\\orchestrator_rag_prompt.txt\n",
      "Final Answer:\n",
      "Answer from the RAG Database:\n",
      "The knowledge base does not include information about this query. However, based on my knowledge, the Tesla Model S is known for its advanced safety features. Here are some of the key safety features typically found in the Tesla Model S:\n",
      "\n",
      "1. **Autopilot and Full Self-Driving Capability**: These systems provide advanced driver assistance features, including automatic lane-keeping, adaptive cruise control, and traffic-aware cruise control.\n",
      "\n",
      "2. **Collision Avoidance**: The Model S includes automatic emergency braking and collision warning systems to help prevent accidents.\n",
      "\n",
      "3. **Airbags**: Multiple airbags, including front, side, and curtain airbags, provide protection in the event of a collision.\n",
      "\n",
      "4. **Electronic Stability Control**: This system helps maintain vehicle stability by detecting and reducing loss of traction.\n",
      "\n",
      "5. **Anti-lock Braking System (ABS)**: Helps maintain steering control during hard braking.\n",
      "\n",
      "6. **Blind Spot Monitoring**: Alerts the driver to vehicles in their blind spots.\n",
      "\n",
      "7. **Lane Departure Warning**: Warns the driver if the vehicle begins to drift out of its lane without signaling.\n",
      "\n",
      "8. **Rearview Camera**: Provides a clear view of the area behind the vehicle to assist with parking and reversing.\n",
      "\n",
      "9. **Low Center of Gravity**: The battery pack is located low in the chassis, which helps reduce the risk of rollover and improves handling stability.\n",
      "\n",
      "10. **5-Star Safety Rating**: The Tesla Model S has achieved a 5-star safety rating from the National Highway Traffic Safety Administration (NHTSA) in every category and subcategory.\n",
      "\n",
      "Please verify these features with the latest official Tesla documentation or a Tesla representative for the most accurate and up-to-date information.\n"
     ]
    },
    {
     "data": {
      "text/plain": [
       "('Answer from the RAG Database:\\nThe knowledge base does not include information about this query. However, based on my knowledge, the Tesla Model S is known for its advanced safety features. Here are some of the key safety features typically found in the Tesla Model S:\\n\\n1. **Autopilot and Full Self-Driving Capability**: These systems provide advanced driver assistance features, including automatic lane-keeping, adaptive cruise control, and traffic-aware cruise control.\\n\\n2. **Collision Avoidance**: The Model S includes automatic emergency braking and collision warning systems to help prevent accidents.\\n\\n3. **Airbags**: Multiple airbags, including front, side, and curtain airbags, provide protection in the event of a collision.\\n\\n4. **Electronic Stability Control**: This system helps maintain vehicle stability by detecting and reducing loss of traction.\\n\\n5. **Anti-lock Braking System (ABS)**: Helps maintain steering control during hard braking.\\n\\n6. **Blind Spot Monitoring**: Alerts the driver to vehicles in their blind spots.\\n\\n7. **Lane Departure Warning**: Warns the driver if the vehicle begins to drift out of its lane without signaling.\\n\\n8. **Rearview Camera**: Provides a clear view of the area behind the vehicle to assist with parking and reversing.\\n\\n9. **Low Center of Gravity**: The battery pack is located low in the chassis, which helps reduce the risk of rollover and improves handling stability.\\n\\n10. **5-Star Safety Rating**: The Tesla Model S has achieved a 5-star safety rating from the National Highway Traffic Safety Administration (NHTSA) in every category and subcategory.\\n\\nPlease verify these features with the latest official Tesla documentation or a Tesla representative for the most accurate and up-to-date information.',\n",
       " [])"
      ]
     },
     "execution_count": 5,
     "metadata": {},
     "output_type": "execute_result"
    }
   ],
   "source": [
    "# Ask the orchestrator about the safety features of the Tesla Model S\n",
    "# The orchestrator will retrieve relevant information from the index and use it to generate a detailed response.\n",
    "o.chat(\"what are the safety features of the Tesla Model S?\")\n"
   ]
  },
  {
   "cell_type": "markdown",
   "metadata": {},
   "source": [
    "### Conclusion\n",
    "\n",
    "In this tutorial, we demonstrated how to set up a simple RAG system using Azure OpenAI. We created a search index, populated it with data, and then used an orchestrator to generate responses based on that data. This is a powerful approach for leveraging large language models to provide detailed and contextually relevant answers."
   ]
  }
 ],
 "metadata": {
  "kernelspec": {
   "display_name": "qr",
   "language": "python",
   "name": "python3"
  },
  "language_info": {
   "codemirror_mode": {
    "name": "ipython",
    "version": 3
   },
   "file_extension": ".py",
   "mimetype": "text/x-python",
   "name": "python",
   "nbconvert_exporter": "python",
   "pygments_lexer": "ipython3",
   "version": "3.11.9"
  }
 },
 "nbformat": 4,
 "nbformat_minor": 2
}
